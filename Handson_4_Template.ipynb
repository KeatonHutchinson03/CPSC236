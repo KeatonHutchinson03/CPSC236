{
 "cells": [
  {
   "cell_type": "markdown",
   "metadata": {},
   "source": [
    "# List and Tuples\n",
    "\n",
    "To submit this assignment in D2l, post the link to your notebook file on your GitHub account."
   ]
  },
  {
   "cell_type": "markdown",
   "metadata": {},
   "source": [
    "## 6.1 Prime Number Checker\n",
    "Create a program that checks whether a number is a prime number and displays its factors if it is not a prime number.\n",
    "\n",
    "### Console:\n",
    "```powershell\n",
    "Prime Number Checker\n",
    "\n",
    "Please enter an integer between 1 and 5000: 5\n",
    "5 is a prime number.\n",
    "\n",
    "Try again? (y/n): y\n",
    "\n",
    "Please enter an integer between 1 and 5000: 6\n",
    "6 is NOT a prime number.\n",
    "It has 4 factors: 1 2 3 6\n",
    "\n",
    "Try again? (y/n): y\n",
    "\n",
    "Please enter an integer between 1 and 5000: 200\n",
    "200 is NOT a prime number.\n",
    "It has 12 factors: 1 2 4 5 8 10 20 25 40 50 100 200\n",
    "\n",
    "Try again? (y/n): n\n",
    "\n",
    "Bye!\n",
    "```\n",
    "\n",
    "### Specifications:\n",
    "- A prime number is divisible by two factors (1 and itself). For example, 7 is a prime number because it is only divisible by 1 and 7.\n",
    "- If the user enters an integer that's not between 1 and 5000, the program should display an error message.\n",
    "- If the number is a prime number, the program should display a message.\n",
    "If the number is not a prime number, the program should display a message. Then, it should display the number of factors for the number and a list of those factors.\n",
    "- Store the factors for each number in a list.\n",
    "- Use functions to organize the code for this program.\n"
   ]
  },
  {
   "cell_type": "code",
   "execution_count": 19,
   "metadata": {
    "scrolled": true
   },
   "outputs": [
    {
     "name": "stdout",
     "output_type": "stream",
     "text": [
      "Prime Number Checker\n",
      "\n"
     ]
    },
    {
     "name": "stdin",
     "output_type": "stream",
     "text": [
      "Please enter a number between 1 and 5000 5\n"
     ]
    },
    {
     "name": "stdout",
     "output_type": "stream",
     "text": [
      "5 is a prime number\n"
     ]
    },
    {
     "name": "stdin",
     "output_type": "stream",
     "text": [
      "Try again? (y/n):  y\n"
     ]
    },
    {
     "name": "stdout",
     "output_type": "stream",
     "text": [
      "Bye!\n"
     ]
    },
    {
     "name": "stdin",
     "output_type": "stream",
     "text": [
      "Please enter a number between 1 and 5000 6\n"
     ]
    },
    {
     "name": "stdout",
     "output_type": "stream",
     "text": [
      "6 is not a prime number\n",
      "It has 4 factors: 1 2 3 6 \n",
      "\n"
     ]
    },
    {
     "name": "stdin",
     "output_type": "stream",
     "text": [
      "Try again? (y/n):  y\n"
     ]
    },
    {
     "name": "stdout",
     "output_type": "stream",
     "text": [
      "Bye!\n"
     ]
    },
    {
     "name": "stdin",
     "output_type": "stream",
     "text": [
      "Please enter a number between 1 and 5000 200\n"
     ]
    },
    {
     "name": "stdout",
     "output_type": "stream",
     "text": [
      "200 is not a prime number\n",
      "It has 12 factors: 1 2 4 5 8 10 20 25 40 50 100 200 \n",
      "\n"
     ]
    },
    {
     "name": "stdin",
     "output_type": "stream",
     "text": [
      "Try again? (y/n):  n\n"
     ]
    }
   ],
   "source": [
    "### CODE HERE ###\n",
    "def isPrime(n):\n",
    "    if n < 2:\n",
    "        return False\n",
    "    for i in range(2, int(n ** 0.5) + 1):\n",
    "        if n % i == 0:\n",
    "            return False\n",
    "    return True\n",
    "def getFactors(n):\n",
    "    factors = [i for i in range(1, n + 1) if n % i == 0]\n",
    "    return factors\n",
    "def main():\n",
    "    print(\"Prime Number Checker\\n\")\n",
    "    while True:\n",
    "        try:\n",
    "            num = int(input(\"Please enter a number between 1 and 5000\"))\n",
    "            if num < 1 or num > 5000:\n",
    "                print(\"Error: Please enter a number between 1 and 5000\")\n",
    "                continue\n",
    "            if isPrime(num):\n",
    "                print(f\"{num} is a prime number\")\n",
    "            else:\n",
    "                factors = getFactors(num)\n",
    "                print(f\"{num} is not a prime number\")\n",
    "                print(f\"It has {len(factors)} factors: {' '.join(map(str, factors))} \\n\")\n",
    "            retry = input(\"Try again? (y/n): \").strip().lower()\n",
    "            if retry != \"y\":\n",
    "                break\n",
    "        except ValueError:\n",
    "            print(\"Error: Invalid input. Please enter an integer. \\n\")\n",
    "        print(\"Bye!\")\n",
    "if __name__ == \"__main__\":\n",
    "    main()"
   ]
  },
  {
   "cell_type": "markdown",
   "metadata": {
    "jupyter": {
     "source_hidden": true
    }
   },
   "source": [
    "## 6.2 - Contact Manager\n",
    "Create a program that a user can use to manage the primary email address and phone number for a contact.\n",
    "\n",
    "### Console\n",
    "```powershell\n",
    "Contact Manager\n",
    "\n",
    "COMMAND MENU\n",
    "list - Display all contacts\n",
    "view - View a contact\n",
    "add - Add a contact\n",
    "del - Delete a contact\n",
    "exit - Exit program\n",
    "\n",
    "Command: list\n",
    "1. Guido van Rossum\n",
    "2. Eric Idle\n",
    "\n",
    "Command: view\n",
    "Number: 2\n",
    "Name: Eric Idle\n",
    "Email: eric@ericidle.com\n",
    "Phone: +44 20 7946 0958\n",
    "\n",
    "Command: add\n",
    "Name: Mike Murach\n",
    "Email: mike@murach.com\n",
    "Phone: 559-123-4567\n",
    "Mike Murach was added.\n",
    "\n",
    "Command: del\n",
    "Number: 1\n",
    "Guido van Rossum was deleted.\n",
    "\n",
    "Command: list\n",
    "1. Eric Idle\n",
    "2. Mike Murach\n",
    "\n",
    "Command: exit\n",
    "Bye!\n",
    "```\n",
    "\n",
    "### Specifications:\n",
    "- Use a list of lists to store the data for the contacts. Provide starting data for two or more contacts.\n",
    "- For the `view` and `del` commands, display an error message if the user enters and invalid contact number.\n",
    "- When you exit the program, all changes that you made to the contact list are lost.\n",
    "\n",
    "\n"
   ]
  },
  {
   "cell_type": "code",
   "execution_count": 11,
   "metadata": {},
   "outputs": [
    {
     "name": "stdin",
     "output_type": "stream",
     "text": [
      "Command:  view\n",
      "Number for contact 2\n"
     ]
    },
    {
     "name": "stdout",
     "output_type": "stream",
     "text": [
      "Number:2\n",
      "Name:Eric Idle\n",
      "Email:eric@ericidle.com\n",
      "Phone Number:+40 20 7946 0958\n",
      "Bye!\n"
     ]
    },
    {
     "name": "stdin",
     "output_type": "stream",
     "text": [
      "Command:  add\n",
      "Name:  Keaton Hutchinson\n",
      "Email:  keatonhut@gmail.com\n",
      "Phone Number: 724 601 7685\n"
     ]
    },
    {
     "name": "stdout",
     "output_type": "stream",
     "text": [
      "Keaton Hutchinson was added.\n",
      "\n",
      "Bye!\n"
     ]
    },
    {
     "name": "stdin",
     "output_type": "stream",
     "text": [
      "Command:  list\n"
     ]
    },
    {
     "name": "stdout",
     "output_type": "stream",
     "text": [
      "1. Guido van Rossum (vanRo@gmail.com)\n",
      "2. Eric Idle (eric@ericidle.com)\n",
      "3. Keaton Hutchinson (keatonhut@gmail.com)\n",
      "\n",
      "Bye!\n"
     ]
    },
    {
     "name": "stdin",
     "output_type": "stream",
     "text": [
      "Command:  del\n",
      "Number:  3\n"
     ]
    },
    {
     "name": "stdout",
     "output_type": "stream",
     "text": [
      "Keaton Hutchinson was deleted.\n",
      "\n",
      "Bye!\n"
     ]
    },
    {
     "name": "stdin",
     "output_type": "stream",
     "text": [
      "Command:  exit\n"
     ]
    }
   ],
   "source": [
    "### CODE HERE ###\n",
    "def list(contacts):\n",
    "    if len(contacts) == 0:\n",
    "        print(\"There are no movies in the list.\\n\")\n",
    "        return\n",
    "    else:\n",
    "        i = 1\n",
    "        for row in contacts:\n",
    "            print(str(i) + \". \" + row[0] + \" (\"+ str(row[1]) + \")\")\n",
    "            i += 1\n",
    "        print()\n",
    "def view(contacts):\n",
    "    number = int(input(\"Number for contact\"))\n",
    "    if number < 1 or number > len(contacts):\n",
    "        print(\"Invalid contact number.\\n\")\n",
    "    else:\n",
    "        print(\"Number:\" + str(number))\n",
    "        index = number - 1\n",
    "        print(\"Name:\" + contacts[index][0])\n",
    "        print(\"Email:\" + contacts[index][1])\n",
    "        print(\"Phone Number:\" + contacts[index][2])\n",
    "        return\n",
    "\n",
    "def add(contacts):\n",
    "    name = input(\"Name: \")\n",
    "    email = input(\"Email: \")\n",
    "    num = input(\"Phone Number:\")\n",
    "    contact = []\n",
    "    contact.append(name)\n",
    "    contact.append(email)\n",
    "    contact.append(num)\n",
    "    contacts.append(contact)\n",
    "    print(contact[0] + \" was added.\\n\")\n",
    "\n",
    "def delete(contacts):\n",
    "    number = int(input(\"Number: \"))\n",
    "    if number < 1 or number > len(contacts):\n",
    "        print(\"Invalid contact number.\\n\")\n",
    "    else:\n",
    "        contact = contacts.pop(number-1)\n",
    "        print(contact[0] + \" was deleted.\\n\")\n",
    "\n",
    "def display_menu():\n",
    "    print(\"COMMAND MENU\")\n",
    "    print(\"list - List all contacts\")\n",
    "    print(\"view - view a contact\")\n",
    "    print(\"add - Add a contact\")\n",
    "    print(\"del - Delete a contact\")\n",
    "    print(\"exit - Exit program\")\n",
    "    print()\n",
    "\n",
    "def main():\n",
    "    contacts = [[\"Guido van Rossum\", \"vanRo@gmail.com\", \"444-229-1133\"],\n",
    "                [\"Eric Idle\", \"eric@ericidle.com\", \"+40 20 7946 0958\"],\n",
    "               ]\n",
    "    while True:\n",
    "        command = input(\"Command: \")\n",
    "        if command == \"list\":\n",
    "            list(contacts)\n",
    "        elif command ==\"view\":\n",
    "            view(contacts)\n",
    "        elif command == \"add\":\n",
    "            add(contacts)\n",
    "        elif command == \"del\":\n",
    "            delete(contacts)\n",
    "        elif command == \"exit\":\n",
    "            break\n",
    "        else:\n",
    "            print(\"Not a valid command. Please try again.\\n\")\n",
    "        print(\"Bye!\")\n",
    "if __name__ == \"__main__\":\n",
    "    main()\n",
    "\n"
   ]
  },
  {
   "cell_type": "code",
   "execution_count": null,
   "metadata": {},
   "outputs": [],
   "source": []
  },
  {
   "cell_type": "code",
   "execution_count": null,
   "metadata": {},
   "outputs": [],
   "source": []
  },
  {
   "cell_type": "code",
   "execution_count": null,
   "metadata": {},
   "outputs": [],
   "source": []
  }
 ],
 "metadata": {
  "kernelspec": {
   "display_name": "Python [conda env:base] *",
   "language": "python",
   "name": "conda-base-py"
  },
  "language_info": {
   "codemirror_mode": {
    "name": "ipython",
    "version": 3
   },
   "file_extension": ".py",
   "mimetype": "text/x-python",
   "name": "python",
   "nbconvert_exporter": "python",
   "pygments_lexer": "ipython3",
   "version": "3.12.7"
  }
 },
 "nbformat": 4,
 "nbformat_minor": 4
}
