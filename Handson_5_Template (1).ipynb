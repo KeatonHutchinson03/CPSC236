{
 "cells": [
  {
   "cell_type": "markdown",
   "metadata": {},
   "source": [
    "# File Input\n",
    "\n",
    "To submit this assignment in D2l, post the link to your notebook file on your GitHub account."
   ]
  },
  {
   "cell_type": "markdown",
   "metadata": {},
   "source": [
    "## 7.1 Pig Dice Rules\n",
    "Create a program that reads a list of rules from a file and displays them.\n",
    "\n",
    "### Console:\n",
    "```powershell\n",
    "Pig Dice Rules:\n",
    "*\tSee how many turns it takes you to get to 20.\n",
    "*\tTurn ends when player rolls a 1 or chooses to hold.\n",
    "*\tIf you roll a 1, you lose all points earned during the turn.\n",
    "*\tIf you hold, you save all points earned during the turn.\n",
    "```\n",
    "\n",
    "### Specifications:\n",
    "- Use the attached text file named `pig_dice_rules.txt` in the corresponding Directory.\n",
    "- Your program should read the text file and display it on the console.\n"
   ]
  },
  {
   "cell_type": "code",
   "execution_count": 3,
   "metadata": {},
   "outputs": [
    {
     "name": "stdout",
     "output_type": "stream",
     "text": [
      "Pig Dice Rules:\n",
      "* See how many turns it takes you to get to 20.\n",
      "* Turn ends when player rolls a 1 or chooses to hold.\n",
      "* If you roll a 1, you lose all points earned during the turn.\n",
      "* If you hold, you save all points earned during the turn."
     ]
    }
   ],
   "source": [
    "### CODE HERE ###\n",
    "with open(\"pig_dice_rules.txt\") as rules:\n",
    "    for line in rules:\n",
    "        print(line, end=\"\")\n",
    "    "
   ]
  },
  {
   "cell_type": "markdown",
   "metadata": {},
   "source": [
    "## 7.2 Wizard Inventory\n",
    "Create a program that keeps track of the items that a wizard can carry.\n",
    "\n",
    "### Console:\n",
    "```powershell\n",
    "The Wizard Inventroy Program\n",
    "\n",
    "COMMAND MENU\n",
    "walk - Walk down the path \n",
    "show - Show all items \n",
    "drop - Drop an item\n",
    "exit - Exit program\n",
    "\n",
    "Command: walk\n",
    "While walking down a path, you see a scroll of uncursing. \n",
    "Do you want to grab it? (y/n): y\n",
    "You picked up a scroll of uncursing.\n",
    "\n",
    "Command: walk\n",
    "While walking down a path, you see an unknown potion. \n",
    "Do you want to grab it? (y/n): y\n",
    "You can't carry any more items. Drop something first.\n",
    "\n",
    "Command: show\n",
    "1.\ta wooden staff\n",
    "2.\ta scroll of invisibility\n",
    "3.\ta crossbow\n",
    "4.\ta scroll of uncursing\n",
    "\n",
    "Command: drop Number: 3\n",
    "You dropped a crossbow.\n",
    "\n",
    "Command: exit \n",
    "Bye!\n",
    "```\n",
    "\n",
    "### Specifications:\n",
    "- Use the attached text file named `wizard_all_items.txt` that contains a list of all the items that a wizard can carry. (in the corresponding directory)\n",
    "- When the user selects the walk command, the program should read the items from the file, randomly pick one, and give the user the option to grab it.\n",
    "- Your program should create another file that stores the items that the wizard is carrying (`wizard_inventory.txt`). Make sure to update this file every time the user grabs or drops an item.\n",
    "- The wizard can only carry **four** items at a time.\n",
    "- For the drop command, display an error message if the user enters an invalid number for the item.\n",
    "\n"
   ]
  },
  {
   "cell_type": "code",
   "execution_count": 13,
   "metadata": {},
   "outputs": [
    {
     "name": "stdout",
     "output_type": "stream",
     "text": [
      "The Wizard Inventory Program\n",
      "COMMAND MENU\n",
      "walk - walk down path\n",
      "show - show items in hand\n",
      "drop - drop an item from inventory\n",
      "exit - exit the program\n"
     ]
    },
    {
     "name": "stdin",
     "output_type": "stream",
     "text": [
      "Command :  walk\n"
     ]
    },
    {
     "name": "stdout",
     "output_type": "stream",
     "text": [
      "While walking down a path, you see a scroll of uncursing\n"
     ]
    },
    {
     "name": "stdin",
     "output_type": "stream",
     "text": [
      "Would you like to pick up the item (y/n) y\n"
     ]
    },
    {
     "name": "stdout",
     "output_type": "stream",
     "text": [
      "a scroll of uncursing was added to item inventory\n"
     ]
    },
    {
     "name": "stdin",
     "output_type": "stream",
     "text": [
      "Command :  show\n"
     ]
    },
    {
     "name": "stdout",
     "output_type": "stream",
     "text": [
      "1.\ta wooden staffs\n",
      "2.\ta scroll of uncursing\n"
     ]
    },
    {
     "name": "stdin",
     "output_type": "stream",
     "text": [
      "Command :  walk\n"
     ]
    },
    {
     "name": "stdout",
     "output_type": "stream",
     "text": [
      "While walking down a path, you see a wizard's cloak\n"
     ]
    },
    {
     "name": "stdin",
     "output_type": "stream",
     "text": [
      "Would you like to pick up the item (y/n) y\n"
     ]
    },
    {
     "name": "stdout",
     "output_type": "stream",
     "text": [
      "a wizard's cloak was added to item inventory\n"
     ]
    },
    {
     "name": "stdin",
     "output_type": "stream",
     "text": [
      "Command :  show\n"
     ]
    },
    {
     "name": "stdout",
     "output_type": "stream",
     "text": [
      "1.\ta wooden staffs\n",
      "2.\ta scroll of uncursing\n",
      "3.\ta wizard's cloak\n"
     ]
    },
    {
     "name": "stdin",
     "output_type": "stream",
     "text": [
      "Command :  walk\n"
     ]
    },
    {
     "name": "stdout",
     "output_type": "stream",
     "text": [
      "While walking down a path, you see an unknown potion\n"
     ]
    },
    {
     "name": "stdin",
     "output_type": "stream",
     "text": [
      "Would you like to pick up the item (y/n) y\n"
     ]
    },
    {
     "name": "stdout",
     "output_type": "stream",
     "text": [
      "an unknown potion was added to item inventory\n"
     ]
    },
    {
     "name": "stdin",
     "output_type": "stream",
     "text": [
      "Command :  show\n"
     ]
    },
    {
     "name": "stdout",
     "output_type": "stream",
     "text": [
      "1.\ta wooden staffs\n",
      "2.\ta scroll of uncursing\n",
      "3.\ta wizard's cloak\n",
      "4.\tan unknown potion\n"
     ]
    },
    {
     "name": "stdin",
     "output_type": "stream",
     "text": [
      "Command :  drop\n",
      "What number would you like to drop 4\n"
     ]
    },
    {
     "name": "stdout",
     "output_type": "stream",
     "text": [
      "an unknown potion was removed from the inventory\n"
     ]
    },
    {
     "name": "stdin",
     "output_type": "stream",
     "text": [
      "Command :  show\n"
     ]
    },
    {
     "name": "stdout",
     "output_type": "stream",
     "text": [
      "1.\ta wooden staffs\n",
      "2.\ta scroll of uncursing\n",
      "3.\ta wizard's cloak\n"
     ]
    },
    {
     "name": "stdin",
     "output_type": "stream",
     "text": [
      "Command :  drop\n",
      "What number would you like to drop 3\n"
     ]
    },
    {
     "name": "stdout",
     "output_type": "stream",
     "text": [
      "a wizard's cloak was removed from the inventory\n"
     ]
    },
    {
     "name": "stdin",
     "output_type": "stream",
     "text": [
      "Command :  drop\n",
      "What number would you like to drop 5\n"
     ]
    },
    {
     "name": "stdout",
     "output_type": "stream",
     "text": [
      "The number chose is out of range of viable choices. Try again.\n"
     ]
    },
    {
     "name": "stdin",
     "output_type": "stream",
     "text": [
      "Command :  exit\n"
     ]
    },
    {
     "name": "stdout",
     "output_type": "stream",
     "text": [
      "Bye\n"
     ]
    }
   ],
   "source": [
    "### CODE HERE ###\n",
    "import random\n",
    "def walk():\n",
    "    paths = []\n",
    "    items = []\n",
    "    with open(\"wizard_all_items.txt\") as file:\n",
    "        for path in file:\n",
    "            path = path.replace(\"\\n\", \"\")\n",
    "            paths.append(path)\n",
    "        max1 = len(paths)\n",
    "        num = random.randint(0, (max1-1))\n",
    "        randpath = paths.pop(num)\n",
    "        print(f\"While walking down a path, you see {randpath}\")\n",
    "        answer = input(\"Would you like to pick up the item (y/n)\")\n",
    "        if answer == \"y\":\n",
    "            with open(\"wizard_inventory.txt\") as file:\n",
    "                for item in file:\n",
    "                    item = item.replace(\"\\n\", \"\")\n",
    "                    items.append(item)\n",
    "                amount = int(len(items))\n",
    "                if amount >= 4:\n",
    "                    print(f\"Too many items in hand cannot pick up {randpath}\")\n",
    "                else:\n",
    "                    with open(\"wizard_inventory.txt\", \"a\") as file2:\n",
    "                        file2.write(f\"\\n{randpath}\")\n",
    "                        print(f\"{randpath} was added to item inventory\")\n",
    "    \n",
    "def display_menu():\n",
    "    print(\"COMMAND MENU\")\n",
    "    print(\"walk - walk down path\")\n",
    "    print(\"show - show items in hand\")\n",
    "    print(\"drop - drop an item from inventory\")\n",
    "    print(\"exit - exit the program\")\n",
    "    \n",
    "def show():\n",
    "    items = []\n",
    "    with open(\"wizard_inventory.txt\") as file:\n",
    "            for item in file:\n",
    "                item = item.replace(\"\\n\", \"\")\n",
    "                items.append(item)\n",
    "    i = 1\n",
    "    for item in items:\n",
    "        print(f\"{i}.\\t{item}\")\n",
    "        i += 1\n",
    "        \n",
    "def drop():\n",
    "    items = []\n",
    "    drop = int(input(\"What number would you like to drop\"))\n",
    "    drop -= 1\n",
    "    with open(\"wizard_inventory.txt\") as file:\n",
    "            for item in file:\n",
    "                item = item.replace(\"\\n\", \"\")\n",
    "                items.append(item)\n",
    "            if drop > (len(items) -1):\n",
    "                print(\"The number chose is out of range of viable choices. Try again.\")\n",
    "            else:\n",
    "                removed = items.pop(drop)\n",
    "                write_inventory(items)\n",
    "                print(f\"{removed} was removed from the inventory\")\n",
    "\n",
    "def write_inventory(items):\n",
    "    index = 0\n",
    "    with open(\"wizard_inventory.txt\", \"w\") as file:\n",
    "        for item in items:\n",
    "            if index == 0:\n",
    "                file.write(item)\n",
    "            else:\n",
    "                file.write(\"\\n\" + item)\n",
    "            index = index + 1\n",
    "    \n",
    "def main():\n",
    "    print(\"The Wizard Inventory Program\")\n",
    "    display_menu()\n",
    "    while True:\n",
    "        try:\n",
    "            command = input(\"Command : \")\n",
    "            if command == \"walk\":\n",
    "                walk()\n",
    "            elif command ==\"show\":\n",
    "                show()\n",
    "            elif command == \"drop\":\n",
    "                drop()\n",
    "            elif command == \"exit\":\n",
    "                print(\"Bye\")\n",
    "                break\n",
    "            else:\n",
    "                print(\"Invalid Command please try again\")\n",
    "        except ValueError:\n",
    "                print(\"Try again\")\n",
    "if __name__ == \"__main__\":\n",
    "    main()"
   ]
  },
  {
   "cell_type": "markdown",
   "metadata": {},
   "source": [
    "## 7.3 Monthly Sales\n",
    "Create a program that reads the sales for 12 months from a file and calculates the total yearly sales as well as the average monthly sales. In addition, this program should let the user edit the sales for any month.\n",
    "\n",
    "### Console:\n",
    "```powershell\n",
    "Monthly Sales program\n",
    "\n",
    "COMMAND MENU\n",
    "monthly - View monthly sales \n",
    "yearly\t- View yearly sumary \n",
    "edit\t- Edit sales for a month \n",
    "exit\t- Exit program\n",
    "\n",
    "Command: monthly \n",
    "Jan - 14317\n",
    "Feb - 3903\n",
    "Mar - 1073\n",
    "Apr - 3463\n",
    "May - 2429\n",
    "Jun - 4324\n",
    "Jul - 9762\n",
    "Aug - 15578\n",
    "Sep - 2437\n",
    "Oct - 6735\n",
    "Nov - 88\n",
    "Dec - 2497\n",
    "\n",
    "Command: yearly\n",
    "Yearly total:\t66606\n",
    "Monthly average:\t5550.5\n",
    "\n",
    "Command: edit\n",
    "Three-letter Month: Nov Sales Amount: 8854\n",
    "Sales amount for Nov was modified.\n",
    "\n",
    "Command: exit Bye!\n",
    "```\n",
    "\n",
    "### Specifications:\n",
    "- Use the attached text file named CSV file named `monthly_sales.csv` that contains the month and sales data shown above.\n",
    "- For the edit command, display an error message if the user doesn’t enter a valid three-letter abbreviation for the month.\n",
    "- When the user edits the sales amount for a month, the data should be saved to the CSV file immediately. That way, no data is lost, even if the program crashes later.\n",
    "- Round the results of the monthly average to a maximum of 2 decimal digits."
   ]
  },
  {
   "cell_type": "code",
   "execution_count": 82,
   "metadata": {},
   "outputs": [
    {
     "name": "stdout",
     "output_type": "stream",
     "text": [
      "Monthly Sales Program\n",
      "COMMAND MENU\n",
      "monthly - show monthly sales\n",
      "yearly - show yearly sales\n",
      "edit - edit sales for a month\n",
      "exit - exit the program\n"
     ]
    },
    {
     "name": "stdin",
     "output_type": "stream",
     "text": [
      "Command :  edit\n",
      "What is the 3 letter abbr for the month? Nov\n",
      "What would you like to change sales amount to? 8854\n"
     ]
    },
    {
     "name": "stdout",
     "output_type": "stream",
     "text": [
      "Passed\n",
      "8854.0 was updated in place for the sale in Nov\n"
     ]
    },
    {
     "name": "stdin",
     "output_type": "stream",
     "text": [
      "Command :  exit\n"
     ]
    },
    {
     "name": "stdout",
     "output_type": "stream",
     "text": [
      "Bye\n"
     ]
    }
   ],
   "source": [
    "### CODE HERE ###\n",
    "import csv\n",
    "def display_menu():\n",
    "    print(\"COMMAND MENU\")\n",
    "    print(\"monthly - show monthly sales\")\n",
    "    print(\"yearly - show yearly sales\")\n",
    "    print(\"edit - edit sales for a month\")\n",
    "    print(\"exit - exit the program\")\n",
    "\n",
    "def monthly():\n",
    "    monthly_sales = []\n",
    "    with open(\"monthly_sales.csv\", newline=\"\") as file:\n",
    "        reader = csv.reader(file)\n",
    "        for row in reader:\n",
    "            monthly_sales.append(row)\n",
    "    list_monthly(monthly_sales)\n",
    "\n",
    "def list_monthly(monthly_sales):\n",
    "    for i in range(len(monthly_sales)):\n",
    "        month = monthly_sales[i]\n",
    "        print(month[0] + \" - \" + month[1])\n",
    "    print()\n",
    "\n",
    "def yearly():\n",
    "    yearly_total = 0\n",
    "    monthly_sales = []\n",
    "    with open(\"monthly_sales.csv\", newline=\"\") as file:\n",
    "        reader = csv.reader(file)\n",
    "        for row in reader:\n",
    "            monthly_sales.append(row)\n",
    "    for sale in monthly_sales:\n",
    "        sale1 = float(sale[1])\n",
    "        yearly_total = yearly_total + sale1\n",
    "    print(\"Yearly Sales: \" + str(yearly_total))\n",
    "    avg = yearly_total / 12\n",
    "    avg = round(avg, 2)\n",
    "    print(\"Average Monthly Sales: \" + str(avg))\n",
    "\n",
    "def edit():\n",
    "    monthly_sales = []\n",
    "    check = 0\n",
    "    abbr = [\"Jan\", \"Feb\", \"Mar\", \"Apr\", \"May\", \"Jun\", \"Jul\", \"Aug\", \"Sep\", \"Oct\", \"Nov\", \"Dec\"]\n",
    "    month_change = str(input(\"What is the 3 letter abbr for the month?\"))\n",
    "    changed_amount = float(input(\"What would you like to change sales amount to?\"))\n",
    "    with open(\"monthly_sales.csv\", newline=\"\") as file:\n",
    "        reader = csv.reader(file)\n",
    "        for row in reader:\n",
    "            monthly_sales.append(row)\n",
    "    for ab in abbr:\n",
    "        if ab == month_change:\n",
    "            print(\"Passed\")\n",
    "            check = 1  \n",
    "    if check != 1 and ab == \"Dec\" :\n",
    "            print(\"The abbr for month is wrong. Please Try again.\")\n",
    "    else:\n",
    "        for monthly in monthly_sales:\n",
    "            if monthly[0] == month_change:\n",
    "                correct_month = monthly[0]\n",
    "                monthly[1] = str(changed_amount)\n",
    "        with open(\"monthly_sales.csv\", \"w\", newline=\"\") as file:\n",
    "            writer = csv.writer(file)\n",
    "            writer.writerows(monthly_sales)\n",
    "            print(f\"{changed_amount} was updated in place for the sale in {month_change}\")\n",
    "         \n",
    "            \n",
    "def main():\n",
    "    print(\"Monthly Sales Program\")\n",
    "    display_menu()\n",
    "    while True:\n",
    "        try:\n",
    "            command = input(\"Command : \")\n",
    "            if command == \"monthly\":\n",
    "                monthly()\n",
    "            elif command ==\"yearly\":\n",
    "                yearly()\n",
    "            elif command == \"edit\":\n",
    "                edit()\n",
    "            elif command == \"exit\":\n",
    "                print(\"Bye\")\n",
    "                break\n",
    "            else:\n",
    "                print(\"Invalid Command please try again\")\n",
    "        except ValueError:\n",
    "                print(\"Try again\")\n",
    "\n",
    "if __name__ == \"__main__\":\n",
    "    main()"
   ]
  },
  {
   "cell_type": "code",
   "execution_count": null,
   "metadata": {},
   "outputs": [],
   "source": []
  },
  {
   "cell_type": "code",
   "execution_count": null,
   "metadata": {},
   "outputs": [],
   "source": []
  }
 ],
 "metadata": {
  "kernelspec": {
   "display_name": "Python [conda env:base] *",
   "language": "python",
   "name": "conda-base-py"
  },
  "language_info": {
   "codemirror_mode": {
    "name": "ipython",
    "version": 3
   },
   "file_extension": ".py",
   "mimetype": "text/x-python",
   "name": "python",
   "nbconvert_exporter": "python",
   "pygments_lexer": "ipython3",
   "version": "3.12.7"
  }
 },
 "nbformat": 4,
 "nbformat_minor": 4
}
