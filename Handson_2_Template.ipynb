{
 "cells": [
  {
   "cell_type": "markdown",
   "metadata": {},
   "source": [
    "# Selections and Loops"
   ]
  },
  {
   "cell_type": "markdown",
   "metadata": {},
   "source": [
    "## 3.1 Letter Grade Converter\n",
    "Create a program that converts number grades to letter grades.\n",
    "\n",
    "### Console:\n",
    "```powershell\n",
    "Letter Grade Converter\n",
    "\n",
    "Enter numerical grade: 90 \n",
    "Letter grade: A\n",
    "\n",
    "Continue? (y/n): y\n",
    "\n",
    "Enter numerical grade: 88 \n",
    "Letter grade: A\n",
    "\n",
    "Continue? (y/n): y\n",
    "\n",
    "Enter numerical grade: 80 \n",
    "Letter grade: B\n",
    "\n",
    "Continue? (y/n): y\n",
    "\n",
    "Enter numerical grade: 67 \n",
    "Letter grade: C\n",
    "\n",
    "Continue? (y/n): y\n",
    "\n",
    "Enter numerical grade: 59 \n",
    "Letter grade: F\n",
    "\n",
    "Continue? (y/n): n\n",
    "\n",
    "Bye!\n",
    "```\n",
    "\n",
    "### Specifications:\n",
    "- Assume that the user will enter valid integers for the grades.\n",
    "- The program should continue only if the user enters “y” or “Y” to continue.\n",
    "- The grading criteria is as follows:\n",
    "\n",
    "| Letter |\tRange |\n",
    "|---|-------|\n",
    "| A |\t88-100 |\n",
    "| B |\t80-87 |\n",
    "| C |\t67-79 |\n",
    "| D |\t60-66 |\n",
    "| F |\t<60 |"
   ]
  },
  {
   "cell_type": "code",
   "execution_count": 19,
   "metadata": {},
   "outputs": [
    {
     "name": "stdin",
     "output_type": "stream",
     "text": [
      "What is the grade 90\n"
     ]
    },
    {
     "name": "stdout",
     "output_type": "stream",
     "text": [
      "The grade of 90 is an A.\n"
     ]
    },
    {
     "name": "stdin",
     "output_type": "stream",
     "text": [
      "Continue? (y/n) y\n",
      "What is the grade 80\n"
     ]
    },
    {
     "name": "stdout",
     "output_type": "stream",
     "text": [
      "The grade of 80 is an B.\n"
     ]
    },
    {
     "name": "stdin",
     "output_type": "stream",
     "text": [
      "Continue? (y/n) y\n",
      "What is the grade 70\n"
     ]
    },
    {
     "name": "stdout",
     "output_type": "stream",
     "text": [
      "The grade of 70 is an C.\n"
     ]
    },
    {
     "name": "stdin",
     "output_type": "stream",
     "text": [
      "Continue? (y/n) n\n"
     ]
    }
   ],
   "source": [
    "### CODE HERE ###\n",
    "choice = 'y'\n",
    "while choice.lower() =='y':\n",
    "    grade = int(input(\"What is the grade\"))\n",
    "    if grade >= 88 and grade <= 100:\n",
    "        print(\"The grade of \" + str(grade) + \" is an A.\")\n",
    "        choice = input(\"Continue? (y/n)\")\n",
    "    elif grade >= 80 and grade <= 87:\n",
    "        print(\"The grade of \" + str(grade) + \" is an B.\")\n",
    "        choice =input(\"Continue? (y/n)\")\n",
    "    elif grade >= 67 and grade <= 79:\n",
    "        print(\"The grade of \" + str(grade) + \" is an C.\")\n",
    "        choice = input(\"Continue? (y/n)\")\n",
    "    elif grade >= 60 and grade <= 66:\n",
    "        print(\"The grade of \" + str(grade) + \" is an D.\")\n",
    "        choice = input(\"Continue? (y/n)\")\n",
    "    elif grade < 60:\n",
    "        print(\"The grade of \" + str(grade) + \" is an F.\")\n",
    "        choice = input(\"Continue? (y/n)\")"
   ]
  },
  {
   "cell_type": "markdown",
   "metadata": {},
   "source": [
    "## 3.2 - Tip Calculator\n",
    "Create a program that calculates three options for an appropriate tip to leave after a meal at a restaurant.\n",
    "\n",
    "### Console\n",
    "```powershell\n",
    "Tip Calculator\n",
    "\n",
    "Cost of meal: 52.31 \n",
    "\n",
    "15%\n",
    "Tip amount:\t7.85\n",
    "Total amount: 60.16\n",
    "\n",
    "20%\n",
    "Tip amount:\t10.46\n",
    "Total amount: 62.77\n",
    "\n",
    "25%\n",
    "Tip amount:\t13.08\n",
    "Total amount: 65.39\n",
    "```\n",
    "\n",
    "### Specifications:\n",
    "- The program should calculate and display the cost of tipping at 15%, 20%, or 25%.\n",
    "- Assume the user will enter valid data.\n",
    "- The program should round results to a maximum of two decimal places.\n",
    "\n"
   ]
  },
  {
   "cell_type": "code",
   "execution_count": 13,
   "metadata": {},
   "outputs": [
    {
     "name": "stdin",
     "output_type": "stream",
     "text": [
      "What is the cost of meal? 52.31\n"
     ]
    },
    {
     "name": "stdout",
     "output_type": "stream",
     "text": [
      "Total price before Tax 52.31\n",
      "15%\n",
      "Tip amount = 7.85\n",
      "Total Amount 60.16\n",
      "20%\n",
      "Tip amount = 10.46\n",
      "Total Amount 62.77\n",
      "25%\n",
      "Tip amount = 13.08\n",
      "Total Amount 65.39\n"
     ]
    }
   ],
   "source": [
    "### CODE HERE ###\n",
    "total = float(input(\"What is the cost of meal?\"))\n",
    "x = 1\n",
    "print(\"Total price before Tax \" + str(total))\n",
    "while x < 3:\n",
    "    if x == 1:\n",
    "        print(\"15%\")\n",
    "        tip = round(total * .15, 2)\n",
    "        print(\"Tip amount = \" + str(tip))\n",
    "        totalwtip = round(total + tip, 2)\n",
    "        print(\"Total Amount \" + str(totalwtip))\n",
    "        x = x +1\n",
    "    if x == 2:\n",
    "        print(\"20%\")\n",
    "        tip = round(total * .20, 2)\n",
    "        print(\"Tip amount = \" + str(tip))\n",
    "        totalwtip = round(total + tip, 2)\n",
    "        print(\"Total Amount \" + str(totalwtip))\n",
    "        x = x +1\n",
    "    if x == 3:\n",
    "        print(\"25%\")\n",
    "        tip = round(total * .25, 2)\n",
    "        print(\"Tip amount = \" + str(tip))\n",
    "        totalwtip = round(total + tip, 2)\n",
    "        print(\"Total Amount \" + str(totalwtip))\n",
    "        x = x +1"
   ]
  },
  {
   "cell_type": "markdown",
   "metadata": {},
   "source": [
    "## 3.3 - Change Calculator\n",
    "Create a program that calculates the coins needed to make change for the specified number of cents.\n",
    "\n",
    "### Console\n",
    "```powershell\n",
    "Change Calculator\n",
    "\n",
    "Enter number of cents (0-99): 99\n",
    "\n",
    "Quarters: 3\n",
    "Dimes:\t2\n",
    "Nickels: 0\n",
    "Pennies: 4\n",
    "\n",
    "Continue? (y/n): y\n",
    "\n",
    "Enter number of cents (0-99): 55\n",
    "\n",
    "Quarters: 2\n",
    "Dimes:\t0\n",
    "Nickels: 1\n",
    "Pennies: 0\n",
    "\n",
    "Continue? (y/n): n \n",
    "\n",
    "Bye!\n",
    "```\n",
    "\n",
    "### Specifications\n",
    "- The program should display the minimum number of quarters, dimes, nickels, and pennies that one needs to make up the specified number of cents.\n",
    "- Assume that the user will enter a valid integer for the number of cents.\n",
    "- The program should continue only if the user enters “y” or “Y” to continue.\n"
   ]
  },
  {
   "cell_type": "code",
   "execution_count": 3,
   "metadata": {},
   "outputs": [
    {
     "name": "stdin",
     "output_type": "stream",
     "text": [
      "Enter number of cents (0-99) 58\n"
     ]
    },
    {
     "name": "stdout",
     "output_type": "stream",
     "text": [
      "Quarters: 2\n",
      "Dimes: 0\n",
      "Nickels: 1\n",
      "Pennies: 3\n"
     ]
    },
    {
     "name": "stdin",
     "output_type": "stream",
     "text": [
      "Continue? (y/n) y\n",
      "Enter number of cents (0-99) 60\n"
     ]
    },
    {
     "name": "stdout",
     "output_type": "stream",
     "text": [
      "Quarters: 2\n",
      "Dimes: 1\n",
      "Nickels: 0\n",
      "Pennies: 0\n"
     ]
    },
    {
     "name": "stdin",
     "output_type": "stream",
     "text": [
      "Continue? (y/n) n\n"
     ]
    }
   ],
   "source": [
    "### CODE HERE ###\n",
    "choice = 'y'\n",
    "while choice.lower() =='y':\n",
    "    cents = int(input(\"Enter number of cents (0-99)\"))\n",
    "    quarters = cents // 25\n",
    "    print(\"Quarters: \" + str(quarters))\n",
    "    cents = cents - (quarters * 25)\n",
    "    dimes = cents // 10\n",
    "    print(\"Dimes: \" + str(dimes))\n",
    "    cents = cents - (dimes * 10)\n",
    "    nickel = cents // 5\n",
    "    print(\"Nickels: \" + str(nickel))\n",
    "    cents = cents - (nickel * 5)\n",
    "    penny = cents // 1\n",
    "    print(\"Pennies: \" + str(penny))\n",
    "    choice = choice = input(\"Continue? (y/n)\")"
   ]
  },
  {
   "cell_type": "markdown",
   "metadata": {},
   "source": [
    "## 3.4 - Table of Powers\n",
    "Create a program that displays a table of squares and cubes for the specified range of numbers.\n",
    "\n",
    "### Console\n",
    "```powershell\n",
    "Table of Powers\n",
    "\n",
    "Start number: 90\n",
    "Stop number: 100\n",
    "\n",
    "Number\tSquared\tCubed\n",
    "======\t=======\t=====\n",
    "90      8100\t729000\n",
    "91      8281\t753571\n",
    "92      8464\t778688\n",
    "93      8649\t804357\n",
    "94      8836\t830584\n",
    "95      9025\t857375\n",
    "96      9216\t884736\n",
    "97      9409\t912673\n",
    "98      9604\t941192\n",
    "99      9801\t970299\n",
    "100     10000\t1000000\n",
    "```\n",
    "\n",
    "### Specifications\n",
    "- The formulas for calculating squares and cubes are:\n",
    "\n",
    "    `square = x ** 2`\n",
    "    \n",
    "    `cube = x ** 3`\n",
    "\n",
    "- Use tabs to align the columns.\n",
    "- Assume that the user will enter valid integers.\n",
    "- Make sure the user enters a start integer that’s less than the stop integer. If the user enters a start integer that’s greater than the stop integer, display an error message and give the user a chance to enter the integers again.\n"
   ]
  },
  {
   "cell_type": "code",
   "execution_count": 15,
   "metadata": {},
   "outputs": [
    {
     "name": "stdin",
     "output_type": "stream",
     "text": [
      "What is your start number? 90\n",
      "What is your end number? 100\n"
     ]
    },
    {
     "name": "stdout",
     "output_type": "stream",
     "text": [
      "Number\tSquared\tCubed\n",
      "======\t=======\t=====\n",
      "90\t8100\t729000\n",
      "91\t8281\t753571\n",
      "92\t8464\t778688\n",
      "93\t8649\t804357\n",
      "94\t8836\t830584\n",
      "95\t9025\t857375\n",
      "96\t9216\t884736\n",
      "97\t9409\t912673\n",
      "98\t9604\t941192\n",
      "99\t9801\t970299\n",
      "100\t10000\t1000000\n"
     ]
    }
   ],
   "source": [
    "### CODE HERE ###\n",
    "num1 = int(input(\"What is your start number?\"))\n",
    "num2 = int(input(\"What is your end number?\"))\n",
    "while num1 > num2:\n",
    "    num1 = int(input(\"The second number must be bigger than first. Please try again. What is your first number?\"))\n",
    "print(\"Number\\tSquared\\tCubed\")\n",
    "print(\"======\\t=======\\t=====\")\n",
    "while num1 <= num2:\n",
    "    squared = num1 ** 2\n",
    "    cubed = num1 **3\n",
    "    print(str(num1) + \"\\t\" + str(squared) +\"\\t\" + str(cubed))\n",
    "    num1 = num1 + 1"
   ]
  },
  {
   "cell_type": "code",
   "execution_count": null,
   "metadata": {},
   "outputs": [],
   "source": []
  }
 ],
 "metadata": {
  "kernelspec": {
   "display_name": "Python [conda env:base] *",
   "language": "python",
   "name": "conda-base-py"
  },
  "language_info": {
   "codemirror_mode": {
    "name": "ipython",
    "version": 3
   },
   "file_extension": ".py",
   "mimetype": "text/x-python",
   "name": "python",
   "nbconvert_exporter": "python",
   "pygments_lexer": "ipython3",
   "version": "3.12.7"
  }
 },
 "nbformat": 4,
 "nbformat_minor": 4
}
