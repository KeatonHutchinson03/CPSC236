{
 "cells": [
  {
   "cell_type": "markdown",
   "metadata": {},
   "source": [
    "# Dictionaries\n",
    "\n",
    "To submit this assignment in D2l, post the link to your notebook file on your GitHub account."
   ]
  },
  {
   "cell_type": "markdown",
   "metadata": {},
   "source": [
    "## 12.1 Champion Counter\n",
    "Create a program that reads a text file that contains a list of FIFA World Cup champions and determines the country that has won the most championships.\n",
    "\n",
    "### Console:\n",
    "```powershell\n",
    "Country\t        Wins\tYears\t\n",
    "=======\t        ====\t=====\t\n",
    "Argentina       2       1978, 1986\n",
    "Brazil\t        5       1958, 1962, 1970, 1994, 2002\n",
    "England\t        1       1966\t\t\n",
    "France\t        1       1998\t\t\n",
    "Germany\t        4       1954, 1974, 1990, 2014\n",
    "Italy\t        4       1934, 1938, 1982, 2006\n",
    "Spain\t        1       2010\n",
    "Uruguay\t        2       1930, 1950\n",
    "```\n",
    "\n",
    "### Specifications:\n",
    "- Use the attached text file named `world_cup_champions.txt` that contains data like this: \n",
    "```powershell\n",
    "Year,Country,Coach,Captain \n",
    "1930,Uruguay,Alberto Suppici,José Nasazzi \n",
    "1934,Italy,Vittorio Pozzo,Gianpiero Combi \n",
    "1938,Italy,Vittorio Pozzo,Giuseppe Meazza\n",
    "...\n",
    "```\n",
    "- When the program starts, it should read the text file and use a dictionary to store the required data using the name of each country that has won the World Cup as the key.\n",
    "- The program should compile the data shown above and display the countries alphabetically.\n",
    "\n"
   ]
  },
  {
   "cell_type": "code",
   "execution_count": 11,
   "metadata": {},
   "outputs": [
    {
     "name": "stdout",
     "output_type": "stream",
     "text": [
      "World Cup Champions by Country:\n",
      "\n",
      "Argentina:\n",
      "  1978 - Coach: CÃ©sar Luis Menotti, Captain: Daniel Passarella\n",
      "  1986 - Coach: Carlos Bilardo, Captain: Diego Maradona\n",
      "\n",
      "Brazil:\n",
      "  1958 - Coach: Vicente Feola, Captain: Hilderaldo Bellini\n",
      "  1962 - Coach: AymorÃ© Moreira, Captain: Mauro Ramos\n",
      "  1970 - Coach: MÃ¡rio Zagallo, Captain: Carlos Alberto\n",
      "  1994 - Coach: Carlos Alberto Parreira, Captain: Dunga\n",
      "  2002 - Coach: Luiz Felipe Scolari, Captain: Cafu\n",
      "\n",
      "England:\n",
      "  1966 - Coach: Alf Ramsey, Captain: Bobby Moore\n",
      "\n",
      "France:\n",
      "  1998 - Coach: AimÃ© Jacquet, Captain: Didier Deschamps\n",
      "\n",
      "Germany:\n",
      "  1954 - Coach: Sepp Herberger, Captain: Fritz Walter\n",
      "  1974 - Coach: Helmut SchÃ¶n, Captain: Franz Beckenbauer\n",
      "  1990 - Coach: Franz Beckenbauer, Captain: Lothar MatthÃ¤us\n",
      "  2014 - Coach: Joachim LÃ¶w, Captain: Philipp Lahm\n",
      "\n",
      "Italy:\n",
      "  1934 - Coach: Vittorio Pozzo, Captain: Gianpiero Combi\n",
      "  1938 - Coach: Vittorio Pozzo, Captain: Giuseppe Meazza\n",
      "  1982 - Coach: Enzo Bearzot, Captain: Dino Zoff\n",
      "  2006 - Coach: Marcello Lippi, Captain: Fabio Cannavaro\n",
      "\n",
      "Spain:\n",
      "  2010 - Coach: Vicente del Bosque, Captain: Iker Casillas\n",
      "\n",
      "Uruguay:\n",
      "  1930 - Coach: Alberto Suppici, Captain: JosÃ© Nasazzi\n",
      "  1950 - Coach: Juan LÃ³pez, Captain: Obdulio Varela\n",
      "\n"
     ]
    }
   ],
   "source": [
    "def read_world_cup(filename):\n",
    "    world_cup_data = {}\n",
    "\n",
    "    with open(filename) as file:\n",
    "        next(file)  # Skip header\n",
    "        for line in file:\n",
    "            line = line.strip()\n",
    "            if not line:\n",
    "                continue  # skip blank lines\n",
    "            parts = line.split(',')\n",
    "            if len(parts) != 4:\n",
    "                continue  # skip malformed lines\n",
    "\n",
    "            year, country, coach, captain = parts\n",
    "            year = int(year)\n",
    "\n",
    "            if country not in world_cup_data:\n",
    "                world_cup_data[country] = []\n",
    "\n",
    "            world_cup_data[country].append({\n",
    "                'Year': year,\n",
    "                'Coach': coach,\n",
    "                'Captain': captain\n",
    "            })\n",
    "\n",
    "    return world_cup_data\n",
    "\n",
    "def display(data):\n",
    "    print(\"World Cup Champions by Country:\\n\")\n",
    "    for country in sorted(data.keys()):\n",
    "        print(f\"{country}:\")\n",
    "        for entry in sorted(data[country], key=lambda x: x['Year']):\n",
    "            print(f\"  {entry['Year']} - Coach: {entry['Coach']}, Captain: {entry['Captain']}\")\n",
    "        print()\n",
    "\n",
    "# Example usage\n",
    "filename = 'world_cup_champions.txt'\n",
    "world_cup_champions = read_world_cup(filename)\n",
    "display(world_cup_champions)\n"
   ]
  },
  {
   "cell_type": "markdown",
   "metadata": {},
   "source": [
    "## 12.2 Monthly Sales\n",
    "Create a program that allows you to view and edit the sales amounts for each month of the current year.\n",
    "\n",
    "### Console:\n",
    "```powershell\n",
    "Monthly Sales program\n",
    "\n",
    "COMMAND MENU\n",
    "view\t- View sales for specified month \n",
    "edit\t- Edit sales for specified month \n",
    "totals - View sales summary for year \n",
    "exit\t- Exit program\n",
    "\n",
    "Command: view\n",
    "Three-letter Month: jan\n",
    "Sales amount for Jan is 14,317.00.\n",
    "\n",
    "Command: edit\n",
    "Three-letter Month: jan \n",
    "Sales Amount: 15293\n",
    "Sales amount for Jan is 15,293.00.\n",
    "\n",
    "Command: totals\n",
    "Yearly total: 67,855.00\n",
    "Monthly average: 5,654.58\n",
    "\n",
    "Command: view\n",
    "Three-letter Month: july \n",
    "Invalid three-letter month.\n",
    "\n",
    "Command: exit Bye!\n",
    "```\n",
    "\n",
    "### Specifications:\n",
    "- Use the attached text file named `monthly_sales.txt` that consists of rows that contain three-letter abbreviations for the month and the monthly sales.\n",
    "- The program should read the file and store the sales data for each month in a dictionary with the month abbreviation as the key for each item.\n",
    "- Whenever the sales data is edited, the program should write the changed data to the text file.\n",
    "\n",
    "\n"
   ]
  },
  {
   "cell_type": "code",
   "execution_count": 9,
   "metadata": {},
   "outputs": [
    {
     "name": "stdout",
     "output_type": "stream",
     "text": [
      "COMMAND MENU\n",
      "view - View sales for specified month\n",
      "edit - Edit sales for specified month\n",
      "totals - View sales summary for year\n",
      "exit - exit the program\n"
     ]
    },
    {
     "name": "stdin",
     "output_type": "stream",
     "text": [
      "Command:  view\n",
      "What is the month you want to view's abbr Jan\n"
     ]
    },
    {
     "name": "stdout",
     "output_type": "stream",
     "text": [
      "Sales amount for Jan is 14317\n",
      "COMMAND MENU\n",
      "view - View sales for specified month\n",
      "edit - Edit sales for specified month\n",
      "totals - View sales summary for year\n",
      "exit - exit the program\n"
     ]
    },
    {
     "name": "stdin",
     "output_type": "stream",
     "text": [
      "Command:  edit\n",
      "What is the month you want to view's abbr Jan\n",
      "What is the new sale for Jan 15473\n"
     ]
    },
    {
     "name": "stdout",
     "output_type": "stream",
     "text": [
      "New sale for Jan is 15473\n",
      "COMMAND MENU\n",
      "view - View sales for specified month\n",
      "edit - Edit sales for specified month\n",
      "totals - View sales summary for year\n",
      "exit - exit the program\n"
     ]
    },
    {
     "name": "stdin",
     "output_type": "stream",
     "text": [
      "Command:  totals\n"
     ]
    },
    {
     "name": "stdout",
     "output_type": "stream",
     "text": [
      "Yearly Total:  68035\n",
      "Monthly Average Sales:  5669.58\n",
      "COMMAND MENU\n",
      "view - View sales for specified month\n",
      "edit - Edit sales for specified month\n",
      "totals - View sales summary for year\n",
      "exit - exit the program\n"
     ]
    },
    {
     "name": "stdin",
     "output_type": "stream",
     "text": [
      "Command:  exit\n"
     ]
    },
    {
     "name": "stdout",
     "output_type": "stream",
     "text": [
      "Bye!\n"
     ]
    }
   ],
   "source": [
    "### CODE HERE ###\n",
    "def display_menu():\n",
    "    print(\"COMMAND MENU\")\n",
    "    print(\"view - View sales for specified month\")\n",
    "    print(\"edit - Edit sales for specified month\")\n",
    "    print(\"totals - View sales summary for year\")\n",
    "    print(\"exit - exit the program\")\n",
    "\n",
    "def view(sales_dict):\n",
    "    abbr = input(\"What is the month you want to view's abbr\")\n",
    "    if abbr not in sales_dict:\n",
    "        print(\"Abbr is wrong for month. Please enter a correct abbr.\")\n",
    "    for key in sales_dict.keys():\n",
    "        if abbr == key:\n",
    "            print(f\"Sales amount for {key} is {sales_dict[key]}\")\n",
    "    \n",
    "def totals(sales_dict):\n",
    "    total = 0\n",
    "    for sales in sales_dict.values():\n",
    "        total = total + sales\n",
    "    monthly = round(total / 12, 2)\n",
    "    print(\"Yearly Total: \", total)\n",
    "    print(\"Monthly Average Sales: \", monthly)\n",
    "\n",
    "def edit(sales_dict):\n",
    "    abbr = input(\"What is the month you want to view's abbr\")\n",
    "    if abbr not in sales_dict:\n",
    "        print(\"Abbr is wrong for month. Please enter a correct abbr.\")\n",
    "    for key in sales_dict.keys():\n",
    "        if abbr == key:\n",
    "            new_sale = int(input(f\"What is the new sale for {abbr}\"))\n",
    "            sales_dict[abbr] = new_sale\n",
    "            print(f\"New sale for {abbr} is {new_sale}\")\n",
    "        \n",
    "\n",
    "def main():\n",
    "    sales_dict = {}\n",
    "    with open(\"monthly_sales.txt\") as file:\n",
    "        for line in file:\n",
    "            parts = line.split(\"\\t\")\n",
    "            parts[1] = parts[1].strip(\"\\n\")\n",
    "            parts[1] = round(int(parts[1]), 2)\n",
    "            sales_dict[parts[0]] = parts[1]\n",
    "    while True:\n",
    "        try:\n",
    "            display_menu()\n",
    "            command = input(\"Command: \")\n",
    "            if command == \"view\":\n",
    "                view(sales_dict)\n",
    "            elif command == \"edit\":\n",
    "                edit(sales_dict)\n",
    "            elif command == \"totals\":\n",
    "                totals(sales_dict)\n",
    "            elif command == \"exit\":\n",
    "                print(\"Bye!\")\n",
    "                break\n",
    "            else:\n",
    "                print(\"Please enter a valid command\")  \n",
    "        except:\n",
    "            print(\"Something went Wrong\")\n",
    "if __name__ == \"__main__\":\n",
    "    main()"
   ]
  },
  {
   "cell_type": "code",
   "execution_count": null,
   "metadata": {},
   "outputs": [],
   "source": []
  }
 ],
 "metadata": {
  "kernelspec": {
   "display_name": "Python [conda env:base] *",
   "language": "python",
   "name": "conda-base-py"
  },
  "language_info": {
   "codemirror_mode": {
    "name": "ipython",
    "version": 3
   },
   "file_extension": ".py",
   "mimetype": "text/x-python",
   "name": "python",
   "nbconvert_exporter": "python",
   "pygments_lexer": "ipython3",
   "version": "3.12.7"
  }
 },
 "nbformat": 4,
 "nbformat_minor": 4
}
